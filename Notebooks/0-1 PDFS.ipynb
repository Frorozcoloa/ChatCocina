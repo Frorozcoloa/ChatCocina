{
 "cells": [
  {
   "cell_type": "code",
   "execution_count": 1,
   "metadata": {},
   "outputs": [],
   "source": [
    "import pandas as pd"
   ]
  },
  {
   "cell_type": "code",
   "execution_count": 4,
   "metadata": {},
   "outputs": [],
   "source": [
    "from newspaper import Article"
   ]
  },
  {
   "cell_type": "code",
   "execution_count": 5,
   "metadata": {},
   "outputs": [],
   "source": [
    "art = Article(\"https://www.recetas.com/receta-de-Tarta-de-grosellas-5508.html\")"
   ]
  },
  {
   "cell_type": "code",
   "execution_count": 6,
   "metadata": {},
   "outputs": [],
   "source": [
    "art.download()\n",
    "art.parse()"
   ]
  },
  {
   "cell_type": "code",
   "execution_count": 20,
   "metadata": {},
   "outputs": [
    {
     "name": "stdout",
     "output_type": "stream",
     "text": [
      " \n",
      "\n",
      "Pelar las manzanas; quitarles las semillas y cortar en rodajas gruesas. Agregarles el vino blanco, el azúcar, cáscara rallada de limón, un poco de jugo y cocinar muy suave, sin hervir, hasta que la manzana se haga apenas tierna.\n",
      "\n",
      "Retirar las rodajas de manzana y agregar al jugo de cocción la miel, la mermelada, las pasas remojadas en el ron y cocinar por 10 minutos más, revolviendo constantemente.\n",
      "\n",
      "Tapizar la tartera con la masa de hojaldre, apretando bien contra el borde.\n",
      "\n",
      "Rallar o moler los bizcochos y esparcirlos por el fondo de la tartera.\n",
      "\n",
      "Acomodar las rodajas de manzana y cubrirlas con la preparación de grosellas.\n",
      "\n",
      "Cubrir con papel aluminio y llevar la tarta a horno caliente durante 25 minutos, quitar el papel aluminio y hornear cinco minutos más.\n",
      "\n",
      "Servir la tarta tibia o fría.\n"
     ]
    }
   ],
   "source": [
    "print(art.text.split(\"Cómo hacer\")[1].replace(art.title, \"\"))"
   ]
  }
 ],
 "metadata": {
  "kernelspec": {
   "display_name": "env",
   "language": "python",
   "name": "python3"
  },
  "language_info": {
   "codemirror_mode": {
    "name": "ipython",
    "version": 3
   },
   "file_extension": ".py",
   "mimetype": "text/x-python",
   "name": "python",
   "nbconvert_exporter": "python",
   "pygments_lexer": "ipython3",
   "version": "3.10.10"
  },
  "orig_nbformat": 4
 },
 "nbformat": 4,
 "nbformat_minor": 2
}
