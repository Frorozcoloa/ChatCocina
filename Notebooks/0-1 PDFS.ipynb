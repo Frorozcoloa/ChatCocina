{
 "cells": [
  {
   "cell_type": "code",
   "execution_count": 2,
   "metadata": {},
   "outputs": [],
   "source": [
    "import newspaper"
   ]
  },
  {
   "cell_type": "code",
   "execution_count": 7,
   "metadata": {},
   "outputs": [],
   "source": [
    "cnn_paper = newspaper.build(\"https://www.mycolombianrecipes.com/es\")"
   ]
  },
  {
   "cell_type": "code",
   "execution_count": 6,
   "metadata": {},
   "outputs": [],
   "source": [
    "for article in cnn_paper.articles:\n",
    "    print(article.url)"
   ]
  },
  {
   "cell_type": "code",
   "execution_count": 57,
   "metadata": {},
   "outputs": [],
   "source": [
    "import re\n",
    "class MinerText:\n",
    "    def __init__(self,text):\n",
    "        self.text = text\n",
    "        self.text = text.replace(\"\\n\", \" \")\n",
    "    def __get_steps(self):\n",
    "        step_pattern = r\"\\d+\\..*?(?=INGREDIENTES)\"\n",
    "        steps = re.findall(step_pattern, text, re.DOTALL)\n",
    "        steps_text = \" \".join(steps)\n",
    "        return steps_text\n",
    "    def __get_ingredients(self):\n",
    "        step = self.__get_steps()\n",
    "        ingredients = self.text.replace(step.replace(\"\\n\",\" \"), \"\")\n",
    "        ingredients = ingredients.replace(\"PREPARACIÓN\", \"\").replace(\"INGREDIENTES\", \"\").replace(\"•\", \"-\")\n",
    "        ingredients = ingredients.split(\"PARA\")[0]\n",
    "        info = {\"ingredients\": ingredients, \"steps\": step}\n",
    "        return info\n",
    "    \n",
    "    def get_info(self):\n",
    "        info = self.__get_ingredients()\n",
    "        return info\n",
    "        "
   ]
  },
  {
   "cell_type": "code",
   "execution_count": 69,
   "metadata": {},
   "outputs": [],
   "source": [
    "pdf_path = list(path_pdf.glob(\"*.pdf\"))[0]"
   ]
  },
  {
   "cell_type": "code",
   "execution_count": 70,
   "metadata": {},
   "outputs": [],
   "source": [
    "doc = fitz.open(pdf_path)# open document\n",
    "# Iterate over each page of the PDF\n",
    "text_all = []\n",
    "for page in doc:\n",
    "    # Get the text of the page in Spanish\n",
    "    text = page.get_text(\"text\", flags=fitz.TEXT_INHIBIT_SPACES)\n",
    "    # Do whatever you want with the text, for example print it\n",
    "    if text.startswith(\"PREPARACIÓN\"):\n",
    "        info = MinerText(text).get_info()\n",
    "        text_all.append(info)\n",
    "        \n",
    "# Close the PDF file\n",
    "doc.close()"
   ]
  },
  {
   "cell_type": "code",
   "execution_count": 74,
   "metadata": {},
   "outputs": [],
   "source": [
    "pd.DataFrame(text_all).to_csv(\"test.csv\", index=False)"
   ]
  },
  {
   "cell_type": "code",
   "execution_count": 6,
   "metadata": {},
   "outputs": [
    {
     "ename": "NameError",
     "evalue": "name 'texto' is not defined",
     "output_type": "error",
     "traceback": [
      "\u001b[1;31m---------------------------------------------------------------------------\u001b[0m",
      "\u001b[1;31mNameError\u001b[0m                                 Traceback (most recent call last)",
      "Cell \u001b[1;32mIn[6], line 1\u001b[0m\n\u001b[1;32m----> 1\u001b[0m texto_split \u001b[39m=\u001b[39m texto\u001b[39m.\u001b[39msplit(\u001b[39m\"\u001b[39m\u001b[39m\\n\u001b[39;00m\u001b[39m\"\u001b[39m)\n\u001b[0;32m      2\u001b[0m ingredients \u001b[39m=\u001b[39m []\n\u001b[0;32m      3\u001b[0m preparacion \u001b[39m=\u001b[39m []\n",
      "\u001b[1;31mNameError\u001b[0m: name 'texto' is not defined"
     ]
    }
   ],
   "source": [
    "texto_split = texto.split(\"\\n\")\n",
    "ingredients = []\n",
    "preparacion = []\n",
    "for subword in texto_split:\n",
    "\n",
    "    subword = subword.strip()\n",
    "    if subword.startswith(\"•\"):\n",
    "        ingredients.append(subword)\n",
    "        \n",
    "  "
   ]
  },
  {
   "cell_type": "markdown",
   "metadata": {},
   "source": []
  },
  {
   "cell_type": "code",
   "execution_count": 81,
   "metadata": {},
   "outputs": [
    {
     "name": "stdout",
     "output_type": "stream",
     "text": [
      "PREPARACIÓN\n",
      "• 1 oz de jugo de limón\n",
      "• 6 hojas de menta\n",
      "• ½ oz de jarabe natural\n",
      "• 2 oz de ron añejo\n",
      "• suficiente hielo\n",
      "• ¼ taza de manzana verde \n",
      "(en medias lunas delgadas)\n",
      "• 1 botella de Strongbow® \n",
      "Honey (330 ml)\n",
      "1. Añade el jugo de limón, las hojas \n",
      "de menta y el jarabe natural en un \n",
      "vaso, después machaca con un \n",
      "mortero.\n",
      "2. Agrega los hielos, el ron añejo,   \n",
      "la manzana verde y Strongbow® \n",
      "Honey. Mezcla y disfruta.\n",
      "3. Decora el mojito con manzana   \n",
      "y rodajas de limón.\n",
      "INGREDIENTES\n",
      "• suficiente manzana          \n",
      "(en medias lunas)\n",
      "• 1 limón (en rodajas)\n",
      "PARA DECORAR\n",
      "TIEMPO: 10 MIN       DIFICULTAD: BAJA       PORCIONES: 1\n",
      "de\n",
      "\n"
     ]
    }
   ],
   "source": [
    "ingredients = [\n",
    "   \" • 1 oz de jugo de limón\",\n",
    "\"• 6 hojas de menta\",\n",
    "\"• ½ oz de jarabe natural\",\n",
    "\"• 2 oz de ron añejo\",\n",
    "\"• suficiente hielo\",\n",
    "\"• ¼ taza de manzana verde (en medias lunas delgadas)\",\n",
    "\"• 1 botella de Strongbow®  Honey (330 ml)\",\n",
    "\"• suficiente manzana verde (en medias lunas)\",          \n",
    "\"• 1 limón (en rodajas)\"\"\n",
    "]\n",
    "\n",
    "spets = [\n",
    "\"1. Añade el jugo de limón, las hojas de menta y el jarabe natural en un vaso, después machaca con un mortero.\"\n",
    "\"2. Agrega los hielos, el ron añejo,   la manzana verde y Strongbow® Honey. Mezcla y disfruta.\"\n",
    "\"3. Decora el mojito con manzana   y rodajas de limón.\"\n",
    "]"
   ]
  },
  {
   "cell_type": "code",
   "execution_count": 13,
   "metadata": {},
   "outputs": [],
   "source": [
    "step_pattern = r\"\\d+\\..*?(?=INGREDIENTES)\"\n",
    "text = text_all[0].replace(\"\\n\", \" \")\n",
    "steps = re.findall(step_pattern, text, re.DOTALL)\n",
    "steps_text = \" \".join(steps)"
   ]
  },
  {
   "cell_type": "code",
   "execution_count": 8,
   "metadata": {},
   "outputs": [],
   "source": [
    "import re\n",
    "\n",
    "def extract_recipe_info(text):\n",
    "    # Extract the ingredients\n",
    "    ingredient_pattern = r\"•.*?\\n\"\n",
    "    ingredients = re.findall(ingredient_pattern, text)\n",
    "\n",
    "    # Extract the steps\n",
    "    step_pattern = r\"\\d+\\..*?\\.\"\n",
    "    steps = re.findall(step_pattern, text)\n",
    "\n",
    "    return ingredients, steps"
   ]
  },
  {
   "cell_type": "code",
   "execution_count": 11,
   "metadata": {},
   "outputs": [],
   "source": [
    "ingredient_pattern = r\"•.*?\\n\"\n",
    "ingredients = re.findall(ingredient_pattern, text_all[0])"
   ]
  },
  {
   "cell_type": "code",
   "execution_count": 12,
   "metadata": {},
   "outputs": [
    {
     "data": {
      "text/plain": [
       "['• 1 oz de jugo de limón\\n',\n",
       " '• 6 hojas de menta\\n',\n",
       " '• ½ oz de jarabe natural\\n',\n",
       " '• 2 oz de ron añejo\\n',\n",
       " '• suficiente hielo\\n',\n",
       " '• ¼ taza de manzana verde \\n',\n",
       " '• 1 botella de Strongbow® \\n',\n",
       " '• suficiente manzana          \\n',\n",
       " '• 1 limón (en rodajas)\\n']"
      ]
     },
     "execution_count": 12,
     "metadata": {},
     "output_type": "execute_result"
    }
   ],
   "source": [
    "ingredients"
   ]
  },
  {
   "cell_type": "code",
   "execution_count": 9,
   "metadata": {},
   "outputs": [],
   "source": [
    "text_clean = text_all[0].replace(\"\\n\", \" \")\n",
    "step_pattern = r\"\\d+\\..*?(?=INGREDIENTES)\"\n",
    "steps = re.findall(step_pattern, text_clean, re.DOTALL)"
   ]
  },
  {
   "cell_type": "code",
   "execution_count": 10,
   "metadata": {},
   "outputs": [
    {
     "data": {
      "text/plain": [
       "['1. Añade el jugo de limón, las hojas  de menta y el jarabe natural en un  vaso, después machaca con un  mortero. 2. Agrega los hielos, el ron añejo,    la manzana verde y Strongbow®  Honey. Mezcla y disfruta. 3. Decora el mojito con manzana    y rodajas de limón. ']"
      ]
     },
     "execution_count": 10,
     "metadata": {},
     "output_type": "execute_result"
    }
   ],
   "source": [
    "steps"
   ]
  }
 ],
 "metadata": {
  "kernelspec": {
   "display_name": "env",
   "language": "python",
   "name": "python3"
  },
  "language_info": {
   "codemirror_mode": {
    "name": "ipython",
    "version": 3
   },
   "file_extension": ".py",
   "mimetype": "text/x-python",
   "name": "python",
   "nbconvert_exporter": "python",
   "pygments_lexer": "ipython3",
   "version": "3.10.10"
  },
  "orig_nbformat": 4
 },
 "nbformat": 4,
 "nbformat_minor": 2
}
