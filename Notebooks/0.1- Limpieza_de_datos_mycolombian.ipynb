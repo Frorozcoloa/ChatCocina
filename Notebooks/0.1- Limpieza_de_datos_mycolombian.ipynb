{
 "cells": [
  {
   "cell_type": "code",
   "execution_count": 56,
   "metadata": {},
   "outputs": [],
   "source": [
    "import newspaper\n",
    "url = \"https://www.recetasnestle.com.co/api/srh-recipe-category/658578?page=1&order=latest\""
   ]
  },
  {
   "cell_type": "code",
   "execution_count": 79,
   "metadata": {},
   "outputs": [],
   "source": [
    "import requests\n",
    "\n",
    "data = requests.get(url).json()\n",
    "host = \"https://www.recetasnestle.com.co\"\n",
    "\n",
    "from newspaper import Article\n",
    "from bs4 import BeautifulSoup"
   ]
  },
  {
   "cell_type": "code",
   "execution_count": 75,
   "metadata": {},
   "outputs": [],
   "source": [
    "art = Article(f'{host}{data[\"results\"][0][\"url\"]}')"
   ]
  },
  {
   "cell_type": "code",
   "execution_count": null,
   "metadata": {},
   "outputs": [],
   "source": [
    "host = \"https://www.recetasnestle.com.co\"\n"
   ]
  },
  {
   "cell_type": "code",
   "execution_count": 84,
   "metadata": {},
   "outputs": [
    {
     "data": {
      "text/plain": [
       "['\\n\\t\\t\\t  1 cucharada de aceite de oliva (14 ml)\\n\\n\\t\\t',\n",
       " '\\n\\t\\t\\t  Zumo de 2 limones (96 ml)\\n\\n\\t\\t',\n",
       " '\\n\\t\\t\\t  1 libra de atún fresco (500 g)\\n\\n\\t\\t',\n",
       " '\\n\\t\\t\\t  ¼ de cucharadita de SAZONADOR NATURISIMO MAGGI® (1 g)\\n\\n\\t\\t',\n",
       " '\\n\\t\\t\\t  3 tazas de papas baby (600 g)\\n\\n\\t\\t',\n",
       " '\\n\\t\\t\\t  3 tazas de tomates cortados en gajos (240 g)\\n\\n\\t\\t',\n",
       " '\\n\\t\\t\\t  1 cucharada de perejil liso finamente picado (10 g)\\n\\n\\t\\t',\n",
       " '\\n\\t\\t\\t  ½ taza de aceitunas verdes sin pepa cortadas en rodajas (60 g)\\n\\n\\t\\t',\n",
       " '\\n\\t\\t\\t  2 tomates de árbol amarillo pelado y cortado en cubos pequeños (180 g)\\n\\n\\t\\t',\n",
       " '\\n\\t\\t\\t  ½ taza de agua (250 ml)\\n\\n\\t\\t',\n",
       " '\\n\\t\\t\\t  2 cucharadas al ras de azúcar (14 g)\\n\\n\\t\\t',\n",
       " '\\n\\t\\t\\t  Zumo de 1 limón (48 ml)\\n\\n\\t\\t',\n",
       " '\\n\\t\\t\\t  2 cucharadas de aceite de oliva (28 ml)\\n\\n\\t\\t']"
      ]
     },
     "execution_count": 84,
     "metadata": {},
     "output_type": "execute_result"
    }
   ],
   "source": [
    "art.download()\n",
    "art.parse()\n",
    "li = BeautifulSoup(art.html).find(\"div\", {\"class\":\"recipeDetail__ingredients\"}).find_all(\"li\")\n",
    "[li.text for li in li]"
   ]
  },
  {
   "cell_type": "code",
   "execution_count": 87,
   "metadata": {},
   "outputs": [
    {
     "name": "stdout",
     "output_type": "stream",
     "text": [
      "\n",
      "\n",
      "\n",
      "\n",
      "\n",
      "1.  Corta el atún en cubos medianos y marina con el zumo de limón, el aceite y el SAZONADOR NATURISIMO MAGGI®, deja en la nevera por 10 minutos aproximadamente.\n",
      "          \n",
      "\n",
      "\n",
      "\n",
      "\n",
      "\n",
      "\n",
      "\n",
      "\n",
      "2.  Cocina las papas con suficiente agua hasta que estén blandas. Retira del fuego\n",
      "          \n",
      "\n",
      "\n",
      "\n",
      "\n",
      "\n",
      "\n",
      "\n",
      "\n",
      "3.  Pon las papas en una ensaladera y agrega el perejil, el tomate y las aceitunas verdes.\n",
      "          \n",
      "\n",
      "\n",
      "\n",
      "\n",
      "\n",
      "\n",
      "\n",
      "\n",
      "4.  En una olla pequeña añade todos los ingredientes y cocina por 15 minutos o hasta que reduzca a la mitad o tenga forma de mermelada ligera.\n",
      "          \n",
      "\n",
      "\n",
      "\n",
      "\n",
      "\n",
      "\n",
      "\n",
      "\n",
      "5.  Mezcla las papas, con el atún y baña con la vinagreta.\n",
      "          \n",
      "\n",
      "\n",
      "\n"
     ]
    },
    {
     "data": {
      "text/plain": [
       "[None, None, None, None, None]"
      ]
     },
     "execution_count": 87,
     "metadata": {},
     "output_type": "execute_result"
    }
   ],
   "source": [
    "ul = BeautifulSoup(art.html).find(\"div\", {\"class\":\"recipeDetail__steps\"}).find_all(\"ul\")\n",
    "[ul.text for ul in ul]"
   ]
  }
 ],
 "metadata": {
  "kernelspec": {
   "display_name": "env",
   "language": "python",
   "name": "python3"
  },
  "language_info": {
   "codemirror_mode": {
    "name": "ipython",
    "version": 3
   },
   "file_extension": ".py",
   "mimetype": "text/x-python",
   "name": "python",
   "nbconvert_exporter": "python",
   "pygments_lexer": "ipython3",
   "version": "3.10.10"
  },
  "orig_nbformat": 4
 },
 "nbformat": 4,
 "nbformat_minor": 2
}
