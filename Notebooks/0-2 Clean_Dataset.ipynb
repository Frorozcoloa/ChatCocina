{
 "cells": [
  {
   "cell_type": "code",
   "execution_count": 1,
   "metadata": {},
   "outputs": [],
   "source": [
    "%load_ext autoreload\n",
    "%autoreload 2\n",
    "from pathlib import Path\n",
    "from matplotlib import pyplot as plt\n",
    "import pandas as pd\n",
    "from wordcloud import WordCloud\n",
    "from uuid import uuid4\n",
    "\n",
    "\n",
    "# Extends pandas txt accessor]\n",
    "from utils import TextAccessor"
   ]
  },
  {
   "cell_type": "code",
   "execution_count": 31,
   "metadata": {},
   "outputs": [],
   "source": [
    "csv = Path().cwd().parent/\"Clean/all.csv\"\n",
    "df = pd.read_csv(str(csv))"
   ]
  },
  {
   "cell_type": "code",
   "execution_count": 32,
   "metadata": {},
   "outputs": [
    {
     "data": {
      "text/html": [
       "<div>\n",
       "<style scoped>\n",
       "    .dataframe tbody tr th:only-of-type {\n",
       "        vertical-align: middle;\n",
       "    }\n",
       "\n",
       "    .dataframe tbody tr th {\n",
       "        vertical-align: top;\n",
       "    }\n",
       "\n",
       "    .dataframe thead th {\n",
       "        text-align: right;\n",
       "    }\n",
       "</style>\n",
       "<table border=\"1\" class=\"dataframe\">\n",
       "  <thead>\n",
       "    <tr style=\"text-align: right;\">\n",
       "      <th></th>\n",
       "      <th>uuid</th>\n",
       "      <th>title</th>\n",
       "      <th>ingredients</th>\n",
       "      <th>steps</th>\n",
       "    </tr>\n",
       "  </thead>\n",
       "  <tbody>\n",
       "    <tr>\n",
       "      <th>0</th>\n",
       "      <td>f27fcbef-6e64-40a7-9cf7-89f2065cc1b2</td>\n",
       "      <td>Arepas de Queso</td>\n",
       "      <td>1 taza de harina de arepa blanca o amarilla 1 ...</td>\n",
       "      <td>Combine la harina de maíz, agua caliente, el q...</td>\n",
       "    </tr>\n",
       "    <tr>\n",
       "      <th>1</th>\n",
       "      <td>f0d3cfd4-66bb-4e93-8d1c-e98570f5044d</td>\n",
       "      <td>Sudado de Pollo</td>\n",
       "      <td>8 muslos de pollo sin la piel 1 cucharada de a...</td>\n",
       "      <td>En una olla grande, caliente el aceite vegetal...</td>\n",
       "    </tr>\n",
       "    <tr>\n",
       "      <th>2</th>\n",
       "      <td>70f80787-9328-4896-956f-6b6988207a3e</td>\n",
       "      <td>Sancocho Trifásico</td>\n",
       "      <td>1 taza de cebolla picada 1 pimientón rojo fina...</td>\n",
       "      <td>Coloque la cebolla, el pimientón, el ajo y el ...</td>\n",
       "    </tr>\n",
       "    <tr>\n",
       "      <th>3</th>\n",
       "      <td>fce8992b-65b2-46e4-9a2c-9faebf6750f8</td>\n",
       "      <td>Sudado de Posta o Muchacho</td>\n",
       "      <td>1 posta o muchacho de 3 a 4 libras, cortada en...</td>\n",
       "      <td>En una olla  grande ponga la carne, el caldo, ...</td>\n",
       "    </tr>\n",
       "    <tr>\n",
       "      <th>4</th>\n",
       "      <td>b0cb908e-c5eb-4421-9556-e45999f584ec</td>\n",
       "      <td>Sopa de Lentejas Colombiana</td>\n",
       "      <td>1 cucharadita de aceite vegetal 1 taza de chor...</td>\n",
       "      <td>Cocinar el chorizo en el aceite en una olla gr...</td>\n",
       "    </tr>\n",
       "  </tbody>\n",
       "</table>\n",
       "</div>"
      ],
      "text/plain": [
       "                                   uuid                        title  \\\n",
       "0  f27fcbef-6e64-40a7-9cf7-89f2065cc1b2              Arepas de Queso   \n",
       "1  f0d3cfd4-66bb-4e93-8d1c-e98570f5044d              Sudado de Pollo   \n",
       "2  70f80787-9328-4896-956f-6b6988207a3e           Sancocho Trifásico   \n",
       "3  fce8992b-65b2-46e4-9a2c-9faebf6750f8   Sudado de Posta o Muchacho   \n",
       "4  b0cb908e-c5eb-4421-9556-e45999f584ec  Sopa de Lentejas Colombiana   \n",
       "\n",
       "                                         ingredients  \\\n",
       "0  1 taza de harina de arepa blanca o amarilla 1 ...   \n",
       "1  8 muslos de pollo sin la piel 1 cucharada de a...   \n",
       "2  1 taza de cebolla picada 1 pimientón rojo fina...   \n",
       "3  1 posta o muchacho de 3 a 4 libras, cortada en...   \n",
       "4  1 cucharadita de aceite vegetal 1 taza de chor...   \n",
       "\n",
       "                                               steps  \n",
       "0  Combine la harina de maíz, agua caliente, el q...  \n",
       "1  En una olla grande, caliente el aceite vegetal...  \n",
       "2  Coloque la cebolla, el pimientón, el ajo y el ...  \n",
       "3  En una olla  grande ponga la carne, el caldo, ...  \n",
       "4  Cocinar el chorizo en el aceite en una olla gr...  "
      ]
     },
     "execution_count": 32,
     "metadata": {},
     "output_type": "execute_result"
    }
   ],
   "source": [
    "df.head()"
   ]
  },
  {
   "cell_type": "code",
   "execution_count": 35,
   "metadata": {},
   "outputs": [
    {
     "name": "stderr",
     "output_type": "stream",
     "text": [
      "C:\\Users\\froro\\AppData\\Local\\Temp\\ipykernel_7832\\1852474096.py:6: FutureWarning: The default value of regex will change from True to False in a future version.\n",
      "  df['ingredients'] = df['ingredients'].str.replace(patron, agregar_espacio)\n"
     ]
    }
   ],
   "source": [
    "def agregar_espacio(match):\n",
    "    return match.group(1) + ' ' + match.group(2)\n",
    "\n",
    "# Aplicamos la expresión regular y la función de reemplazo\n",
    "patron = r'([a-zA-Z])(\\d)'\n",
    "df['ingredients'] = df['ingredients'].str.replace(patron, agregar_espacio)"
   ]
  },
  {
   "cell_type": "code",
   "execution_count": 42,
   "metadata": {},
   "outputs": [
    {
     "name": "stderr",
     "output_type": "stream",
     "text": [
      "C:\\Users\\froro\\AppData\\Local\\Temp\\ipykernel_7832\\2658477091.py:2: FutureWarning: The default value of regex will change from True to False in a future version.\n",
      "  df['ingredients'] = df['ingredients'].str.replace(patron, agregar_espacio)\n"
     ]
    }
   ],
   "source": [
    "patron = r'([a-z])([A-Z])'\n",
    "df['ingredients'] = df['ingredients'].str.replace(patron, agregar_espacio)"
   ]
  },
  {
   "cell_type": "code",
   "execution_count": 43,
   "metadata": {},
   "outputs": [
    {
     "name": "stdout",
     "output_type": "stream",
     "text": [
      "5 lt. de agua 5 kg. de huacales o rabadillas de pollo zanahoria en cubos 1/2 cebolla Clavo al gusto Tomillo al gusto Mejorana al gusto Pimienta negra entera al gusto 1 pieza de jengibre picado 1 taza de arroz blanco previamente cocido Hojas de albahaca al gusto 200 gr. de queso panela en cubos  \n"
     ]
    }
   ],
   "source": [
    "print(df[df.uuid == \"c7d3ffba-0b12-4c5f-88ad-03309594030e\"].ingredients.values[0])"
   ]
  },
  {
   "cell_type": "code",
   "execution_count": 47,
   "metadata": {},
   "outputs": [],
   "source": [
    "df.ingredients = df.ingredients.str.replace(\"Ingredientes\", \"\")"
   ]
  },
  {
   "cell_type": "code",
   "execution_count": 46,
   "metadata": {},
   "outputs": [],
   "source": [
    "df.to_csv(str(csv), index=False)"
   ]
  }
 ],
 "metadata": {
  "kernelspec": {
   "display_name": "env",
   "language": "python",
   "name": "python3"
  },
  "language_info": {
   "codemirror_mode": {
    "name": "ipython",
    "version": 3
   },
   "file_extension": ".py",
   "mimetype": "text/x-python",
   "name": "python",
   "nbconvert_exporter": "python",
   "pygments_lexer": "ipython3",
   "version": "3.10.10"
  },
  "orig_nbformat": 4
 },
 "nbformat": 4,
 "nbformat_minor": 2
}
